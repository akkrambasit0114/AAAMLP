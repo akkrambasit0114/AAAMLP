{
 "cells": [
  {
   "cell_type": "code",
   "execution_count": 1,
   "metadata": {},
   "outputs": [],
   "source": [
    "# What is this hyper-parameter optimization>\n",
    "# If we train a linear regression with SGD,\n",
    "# the parameters of are the slope and the bias\n",
    "# and hyperparameter is learning rate.\n",
    "# Lets' say we have a 3 dial combination lock.\n",
    "# a combination lock has just one key\n",
    "# but the model has many right answers\n",
    "\n",
    "### How would you find the best parameters?\n",
    "### A method would be to evaluate all the combinations\n",
    "### and see which one improves the metric"
   ]
  },
  {
   "cell_type": "code",
   "execution_count": 3,
   "metadata": {},
   "outputs": [
    {
     "ename": "TypeError",
     "evalue": "'NoneType' object is not callable",
     "output_type": "error",
     "traceback": [
      "\u001b[0;31m---------------------------------------------------------------------------\u001b[0m",
      "\u001b[0;31mTypeError\u001b[0m                                 Traceback (most recent call last)",
      "Cell \u001b[0;32mIn[3], line 15\u001b[0m\n\u001b[1;32m     12\u001b[0m \u001b[39mfor\u001b[39;00m b \u001b[39min\u001b[39;00m \u001b[39mrange\u001b[39m(\u001b[39m1\u001b[39m, \u001b[39m11\u001b[39m):\n\u001b[1;32m     13\u001b[0m     \u001b[39mfor\u001b[39;00m c \u001b[39min\u001b[39;00m \u001b[39mrange\u001b[39m(\u001b[39m1\u001b[39m, \u001b[39m11\u001b[39m):\n\u001b[1;32m     14\u001b[0m         \u001b[39m# initialize model with current parameters\u001b[39;00m\n\u001b[0;32m---> 15\u001b[0m         model \u001b[39m=\u001b[39m MODEL(a, b, c)\n\u001b[1;32m     16\u001b[0m         \u001b[39m# fit the model\u001b[39;00m\n\u001b[1;32m     17\u001b[0m         model\u001b[39m.\u001b[39mfit(training_data)\n",
      "\u001b[0;31mTypeError\u001b[0m: 'NoneType' object is not callable"
     ]
    }
   ],
   "source": [
    "# define the besr accuracy to be 0\n",
    "# if you choose loss as a metric,\n",
    "# you can  make best loss to be inf (np.inf)\n",
    "best_accuracy = 0\n",
    "best_parameters = {\"a\": 0, \"b\": 0, \"c\": 0}\n",
    "\n",
    "MODEL = None\n",
    "training_data = None\n",
    "validation_data = None\n",
    "# loop over all values for a,b & c\n",
    "for a in range(1, 11):\n",
    "    for b in range(1, 11):\n",
    "        for c in range(1, 11):\n",
    "            # initialize model with current parameters\n",
    "            model = MODEL(a, b, c)\n",
    "            # fit the model\n",
    "            model.fit(training_data)\n",
    "            # make predicitions\n",
    "            preds = model.predict(validation_data)\n",
    "            # calculate accuracy\n",
    "            accuracy = metrics.accuracy_score(targets, preds)\n",
    "            # save params if current accuracy\n",
    "            # is greater than best accuracy\n",
    "            if accuracy > best_accuracy:\n",
    "                best_accuracy = accuracy\n",
    "                best_parameters[\"a\"] = a\n",
    "                best_parameters[\"b\"] = b\n",
    "                best_parameters[\"c\"] = c\n"
   ]
  },
  {
   "cell_type": "code",
   "execution_count": null,
   "metadata": {},
   "outputs": [],
   "source": [
    "# Most models parameters are real-valued, and the \n",
    "# combinations of different parameters can be infinite.\n",
    "# ex: RandomForestClassifier have 19 parameters\n",
    "# all the combinations is going to be infinite\n"
   ]
  },
  {
   "cell_type": "code",
   "execution_count": 4,
   "metadata": {},
   "outputs": [],
   "source": [
    "# Grid of Parameters\n",
    "# A search over the above grid to find the best combination\n",
    "# is know as GRID SEARCH\n",
    "# { n_estimators: [100, 200, 250, 400, 500],\n",
    "#   max_depth: [1, 2, 7, 11, 15],\n",
    "#   criterion: [\"gini\", \"entropy\"] \n",
    "# } \n",
    "# It must also be noted that if you have k-fold\n",
    "# cross-validation, you need more loops which \n",
    "# implies more time to find the perfect parameters\n",
    "# Grid Search is there are not very popular\n",
    "# Example: prediciting mobile phone price range\n",
    "# rf_grid_search.py\n"
   ]
  },
  {
   "cell_type": "code",
   "execution_count": null,
   "metadata": {},
   "outputs": [],
   "source": []
  }
 ],
 "metadata": {
  "kernelspec": {
   "display_name": "base",
   "language": "python",
   "name": "python3"
  },
  "language_info": {
   "codemirror_mode": {
    "name": "ipython",
    "version": 3
   },
   "file_extension": ".py",
   "mimetype": "text/x-python",
   "name": "python",
   "nbconvert_exporter": "python",
   "pygments_lexer": "ipython3",
   "version": "3.10.9"
  },
  "orig_nbformat": 4
 },
 "nbformat": 4,
 "nbformat_minor": 2
}
